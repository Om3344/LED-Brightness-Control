{
  "nbformat": 4,
  "nbformat_minor": 0,
  "metadata": {
    "colab": {
      "provenance": []
    },
    "kernelspec": {
      "name": "python3",
      "display_name": "Python 3"
    },
    "language_info": {
      "name": "python"
    }
  },
  "cells": [
    {
      "cell_type": "code",
      "source": [
        "import RPi.GPIO as GPIO\n",
        "import time\n",
        "\n",
        "# Set up the GPIO mode\n",
        "GPIO.setmode(GPIO.BCM)\n",
        "\n",
        "# Pin connected to the LED\n",
        "led_pin = 18  # GPIO 18 (PWM-capable)\n",
        "\n",
        "# Set the LED pin as an output\n",
        "GPIO.setup(led_pin, GPIO.OUT)\n",
        "\n",
        "# Set up PWM on the LED pin with a frequency of 1000 Hz (1kHz)\n",
        "pwm = GPIO.PWM(led_pin, 1000)\n",
        "\n",
        "# Start PWM with 0% duty cycle (LED is off initially)\n",
        "pwm.start(0)\n",
        "\n",
        "try:\n",
        "    while True:\n",
        "        # Increase the brightness from 0 to 100% (LED on full)\n",
        "        for brightness in range(0, 101, 5):  # Increasing brightness\n",
        "            pwm.ChangeDutyCycle(brightness)\n",
        "            time.sleep(0.1)  # Wait for a bit before changing brightness\n",
        "\n",
        "        # Decrease the brightness from 100% to 0% (LED off)\n",
        "        for brightness in range(100, -1, -5):  # Decreasing brightness\n",
        "            pwm.ChangeDutyCycle(brightness)\n",
        "            time.sleep(0.1)  # Wait for a bit before changing brightness\n",
        "\n",
        "except KeyboardInterrupt:\n",
        "    # Gracefully exit the program\n",
        "    print(\"Exiting...\")\n",
        "\n",
        "finally:\n",
        "    # Stop PWM and clean up GPIO settings\n",
        "    pwm.stop()\n",
        "    GPIO.cleanup()\n"
      ],
      "metadata": {
        "id": "GRY8esfXBmom"
      },
      "execution_count": null,
      "outputs": []
    }
  ]
}